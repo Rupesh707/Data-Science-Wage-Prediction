{
 "cells": [
  {
   "cell_type": "code",
   "execution_count": null,
   "metadata": {},
   "outputs": [],
   "source": [
    "#This line will open a new chrome window to start the scraping & Saving the data set as CSV\n",
    "path = \"/Users/rupesh/Desktop/CodProj/DS_Salary_Project/chromedriver\"\n",
    "df = get_jobs(\"Data Scientist\", 1000, False, path, 15)\n",
    "df.to_csv('glassdoor_jobs.csv', index= False)"
   ]
  }
 ],
 "metadata": {
  "kernelspec": {
   "display_name": "Python 3",
   "language": "python",
   "name": "python3"
  },
  "language_info": {
   "codemirror_mode": {
    "name": "ipython",
    "version": 3
   },
   "file_extension": ".py",
   "mimetype": "text/x-python",
   "name": "python",
   "nbconvert_exporter": "python",
   "pygments_lexer": "ipython3",
   "version": "3.7.6"
  }
 },
 "nbformat": 4,
 "nbformat_minor": 4
}
